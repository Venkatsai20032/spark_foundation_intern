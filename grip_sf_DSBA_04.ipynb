{
  "nbformat": 4,
  "nbformat_minor": 0,
  "metadata": {
    "colab": {
      "provenance": []
    },
    "kernelspec": {
      "name": "python3",
      "display_name": "Python 3"
    },
    "language_info": {
      "name": "python"
    }
  },
  "cells": [
    {
      "cell_type": "markdown",
      "source": [
        "## Prediction using Decision Tree Algorithm"
      ],
      "metadata": {
        "id": "XHLoMM3Q3PuJ"
      }
    },
    {
      "cell_type": "markdown",
      "source": [
        "# a) Load and Inspect the Data"
      ],
      "metadata": {
        "id": "QaUaXL7J-wc3"
      }
    },
    {
      "cell_type": "code",
      "source": [
        "import pandas as pd\n",
        "df = pd.read_csv('/content/Iris.csv')\n",
        "print(df.head())\n"
      ],
      "metadata": {
        "colab": {
          "base_uri": "https://localhost:8080/"
        },
        "id": "YEBfCWzf-wud",
        "outputId": "b0d1714b-c237-43f6-bd33-c8274f8445be"
      },
      "execution_count": 9,
      "outputs": [
        {
          "output_type": "stream",
          "name": "stdout",
          "text": [
            "   Id  SepalLengthCm  SepalWidthCm  PetalLengthCm  PetalWidthCm      Species\n",
            "0   1            5.1           3.5            1.4           0.2  Iris-setosa\n",
            "1   2            4.9           3.0            1.4           0.2  Iris-setosa\n",
            "2   3            4.7           3.2            1.3           0.2  Iris-setosa\n",
            "3   4            4.6           3.1            1.5           0.2  Iris-setosa\n",
            "4   5            5.0           3.6            1.4           0.2  Iris-setosa\n"
          ]
        }
      ]
    },
    {
      "cell_type": "markdown",
      "source": [
        "# b) Prepare the Data"
      ],
      "metadata": {
        "id": "6HyyNrjc_UEo"
      }
    },
    {
      "cell_type": "code",
      "source": [
        "X = df.drop(['Id', 'Species'], axis=1)\n",
        "y = df['Species']\n",
        "from sklearn.model_selection import train_test_split\n",
        "X_train, X_test, y_train, y_test = train_test_split(X, y, test_size=0.3, random_state=42)\n"
      ],
      "metadata": {
        "id": "frapzUnT_WJ9"
      },
      "execution_count": 10,
      "outputs": []
    },
    {
      "cell_type": "markdown",
      "source": [
        "# C) Train the Decision Tree Classifier"
      ],
      "metadata": {
        "id": "aV_j2kM4_djR"
      }
    },
    {
      "cell_type": "code",
      "source": [
        "from sklearn.tree import DecisionTreeClassifier\n",
        "clf = DecisionTreeClassifier(random_state=42)\n",
        "clf.fit(X_train, y_train)\n"
      ],
      "metadata": {
        "colab": {
          "base_uri": "https://localhost:8080/",
          "height": 74
        },
        "id": "AdUfOw-T_jNm",
        "outputId": "6e5f3066-5a45-4ff5-ea75-67296b16d6e9"
      },
      "execution_count": 11,
      "outputs": [
        {
          "output_type": "execute_result",
          "data": {
            "text/plain": [
              "DecisionTreeClassifier(random_state=42)"
            ],
            "text/html": [
              "<style>#sk-container-id-1 {color: black;background-color: white;}#sk-container-id-1 pre{padding: 0;}#sk-container-id-1 div.sk-toggleable {background-color: white;}#sk-container-id-1 label.sk-toggleable__label {cursor: pointer;display: block;width: 100%;margin-bottom: 0;padding: 0.3em;box-sizing: border-box;text-align: center;}#sk-container-id-1 label.sk-toggleable__label-arrow:before {content: \"▸\";float: left;margin-right: 0.25em;color: #696969;}#sk-container-id-1 label.sk-toggleable__label-arrow:hover:before {color: black;}#sk-container-id-1 div.sk-estimator:hover label.sk-toggleable__label-arrow:before {color: black;}#sk-container-id-1 div.sk-toggleable__content {max-height: 0;max-width: 0;overflow: hidden;text-align: left;background-color: #f0f8ff;}#sk-container-id-1 div.sk-toggleable__content pre {margin: 0.2em;color: black;border-radius: 0.25em;background-color: #f0f8ff;}#sk-container-id-1 input.sk-toggleable__control:checked~div.sk-toggleable__content {max-height: 200px;max-width: 100%;overflow: auto;}#sk-container-id-1 input.sk-toggleable__control:checked~label.sk-toggleable__label-arrow:before {content: \"▾\";}#sk-container-id-1 div.sk-estimator input.sk-toggleable__control:checked~label.sk-toggleable__label {background-color: #d4ebff;}#sk-container-id-1 div.sk-label input.sk-toggleable__control:checked~label.sk-toggleable__label {background-color: #d4ebff;}#sk-container-id-1 input.sk-hidden--visually {border: 0;clip: rect(1px 1px 1px 1px);clip: rect(1px, 1px, 1px, 1px);height: 1px;margin: -1px;overflow: hidden;padding: 0;position: absolute;width: 1px;}#sk-container-id-1 div.sk-estimator {font-family: monospace;background-color: #f0f8ff;border: 1px dotted black;border-radius: 0.25em;box-sizing: border-box;margin-bottom: 0.5em;}#sk-container-id-1 div.sk-estimator:hover {background-color: #d4ebff;}#sk-container-id-1 div.sk-parallel-item::after {content: \"\";width: 100%;border-bottom: 1px solid gray;flex-grow: 1;}#sk-container-id-1 div.sk-label:hover label.sk-toggleable__label {background-color: #d4ebff;}#sk-container-id-1 div.sk-serial::before {content: \"\";position: absolute;border-left: 1px solid gray;box-sizing: border-box;top: 0;bottom: 0;left: 50%;z-index: 0;}#sk-container-id-1 div.sk-serial {display: flex;flex-direction: column;align-items: center;background-color: white;padding-right: 0.2em;padding-left: 0.2em;position: relative;}#sk-container-id-1 div.sk-item {position: relative;z-index: 1;}#sk-container-id-1 div.sk-parallel {display: flex;align-items: stretch;justify-content: center;background-color: white;position: relative;}#sk-container-id-1 div.sk-item::before, #sk-container-id-1 div.sk-parallel-item::before {content: \"\";position: absolute;border-left: 1px solid gray;box-sizing: border-box;top: 0;bottom: 0;left: 50%;z-index: -1;}#sk-container-id-1 div.sk-parallel-item {display: flex;flex-direction: column;z-index: 1;position: relative;background-color: white;}#sk-container-id-1 div.sk-parallel-item:first-child::after {align-self: flex-end;width: 50%;}#sk-container-id-1 div.sk-parallel-item:last-child::after {align-self: flex-start;width: 50%;}#sk-container-id-1 div.sk-parallel-item:only-child::after {width: 0;}#sk-container-id-1 div.sk-dashed-wrapped {border: 1px dashed gray;margin: 0 0.4em 0.5em 0.4em;box-sizing: border-box;padding-bottom: 0.4em;background-color: white;}#sk-container-id-1 div.sk-label label {font-family: monospace;font-weight: bold;display: inline-block;line-height: 1.2em;}#sk-container-id-1 div.sk-label-container {text-align: center;}#sk-container-id-1 div.sk-container {/* jupyter's `normalize.less` sets `[hidden] { display: none; }` but bootstrap.min.css set `[hidden] { display: none !important; }` so we also need the `!important` here to be able to override the default hidden behavior on the sphinx rendered scikit-learn.org. See: https://github.com/scikit-learn/scikit-learn/issues/21755 */display: inline-block !important;position: relative;}#sk-container-id-1 div.sk-text-repr-fallback {display: none;}</style><div id=\"sk-container-id-1\" class=\"sk-top-container\"><div class=\"sk-text-repr-fallback\"><pre>DecisionTreeClassifier(random_state=42)</pre><b>In a Jupyter environment, please rerun this cell to show the HTML representation or trust the notebook. <br />On GitHub, the HTML representation is unable to render, please try loading this page with nbviewer.org.</b></div><div class=\"sk-container\" hidden><div class=\"sk-item\"><div class=\"sk-estimator sk-toggleable\"><input class=\"sk-toggleable__control sk-hidden--visually\" id=\"sk-estimator-id-1\" type=\"checkbox\" checked><label for=\"sk-estimator-id-1\" class=\"sk-toggleable__label sk-toggleable__label-arrow\">DecisionTreeClassifier</label><div class=\"sk-toggleable__content\"><pre>DecisionTreeClassifier(random_state=42)</pre></div></div></div></div></div>"
            ]
          },
          "metadata": {},
          "execution_count": 11
        }
      ]
    },
    {
      "cell_type": "markdown",
      "source": [
        "# d) Visualize the Decision Tree"
      ],
      "metadata": {
        "id": "-BRT4m4y_ndh"
      }
    },
    {
      "cell_type": "code",
      "source": [
        "from sklearn.tree import export_graphviz\n",
        "import graphviz\n",
        "dot_data = export_graphviz(clf, out_file=None,\n",
        "                           feature_names=X.columns,\n",
        "                           class_names=clf.classes_,\n",
        "                           filled=True, rounded=True,\n",
        "                           special_characters=True)\n",
        "graph = graphviz.Source(dot_data)\n",
        "graph.render(\"iris_decision_tree\")\n",
        "graph\n"
      ],
      "metadata": {
        "colab": {
          "base_uri": "https://localhost:8080/",
          "height": 1000
        },
        "id": "IiXRDti7_u1C",
        "outputId": "c6c2d782-eb70-4d65-a7a4-ee04f5561ed6"
      },
      "execution_count": 12,
      "outputs": [
        {
          "output_type": "execute_result",
          "data": {
            "image/svg+xml": "<?xml version=\"1.0\" encoding=\"UTF-8\" standalone=\"no\"?>\n<!DOCTYPE svg PUBLIC \"-//W3C//DTD SVG 1.1//EN\"\n \"http://www.w3.org/Graphics/SVG/1.1/DTD/svg11.dtd\">\n<!-- Generated by graphviz version 2.43.0 (0)\n -->\n<!-- Title: Tree Pages: 1 -->\n<svg width=\"796pt\" height=\"790pt\"\n viewBox=\"0.00 0.00 796.00 790.00\" xmlns=\"http://www.w3.org/2000/svg\" xmlns:xlink=\"http://www.w3.org/1999/xlink\">\n<g id=\"graph0\" class=\"graph\" transform=\"scale(1 1) rotate(0) translate(4 786)\">\n<title>Tree</title>\n<polygon fill=\"white\" stroke=\"transparent\" points=\"-4,4 -4,-786 792,-786 792,4 -4,4\"/>\n<!-- 0 -->\n<g id=\"node1\" class=\"node\">\n<title>0</title>\n<path fill=\"#ffffff\" stroke=\"black\" d=\"M293.5,-782C293.5,-782 165.5,-782 165.5,-782 159.5,-782 153.5,-776 153.5,-770 153.5,-770 153.5,-711 153.5,-711 153.5,-705 159.5,-699 165.5,-699 165.5,-699 293.5,-699 293.5,-699 299.5,-699 305.5,-705 305.5,-711 305.5,-711 305.5,-770 305.5,-770 305.5,-776 299.5,-782 293.5,-782\"/>\n<text text-anchor=\"start\" x=\"161.5\" y=\"-766.8\" font-family=\"Helvetica,sans-Serif\" font-size=\"14.00\">PetalLengthCm ≤ 2.45</text>\n<text text-anchor=\"start\" x=\"194\" y=\"-751.8\" font-family=\"Helvetica,sans-Serif\" font-size=\"14.00\">gini = 0.664</text>\n<text text-anchor=\"start\" x=\"184.5\" y=\"-736.8\" font-family=\"Helvetica,sans-Serif\" font-size=\"14.00\">samples = 105</text>\n<text text-anchor=\"start\" x=\"171.5\" y=\"-721.8\" font-family=\"Helvetica,sans-Serif\" font-size=\"14.00\">value = [31, 37, 37]</text>\n<text text-anchor=\"start\" x=\"166\" y=\"-706.8\" font-family=\"Helvetica,sans-Serif\" font-size=\"14.00\">class = Iris&#45;versicolor</text>\n</g>\n<!-- 1 -->\n<g id=\"node2\" class=\"node\">\n<title>1</title>\n<path fill=\"#e58139\" stroke=\"black\" d=\"M202,-655.5C202,-655.5 101,-655.5 101,-655.5 95,-655.5 89,-649.5 89,-643.5 89,-643.5 89,-599.5 89,-599.5 89,-593.5 95,-587.5 101,-587.5 101,-587.5 202,-587.5 202,-587.5 208,-587.5 214,-593.5 214,-599.5 214,-599.5 214,-643.5 214,-643.5 214,-649.5 208,-655.5 202,-655.5\"/>\n<text text-anchor=\"start\" x=\"123.5\" y=\"-640.3\" font-family=\"Helvetica,sans-Serif\" font-size=\"14.00\">gini = 0.0</text>\n<text text-anchor=\"start\" x=\"110.5\" y=\"-625.3\" font-family=\"Helvetica,sans-Serif\" font-size=\"14.00\">samples = 31</text>\n<text text-anchor=\"start\" x=\"101\" y=\"-610.3\" font-family=\"Helvetica,sans-Serif\" font-size=\"14.00\">value = [31, 0, 0]</text>\n<text text-anchor=\"start\" x=\"97\" y=\"-595.3\" font-family=\"Helvetica,sans-Serif\" font-size=\"14.00\">class = Iris&#45;setosa</text>\n</g>\n<!-- 0&#45;&gt;1 -->\n<g id=\"edge1\" class=\"edge\">\n<title>0&#45;&gt;1</title>\n<path fill=\"none\" stroke=\"black\" d=\"M202.44,-698.91C194.93,-687.65 186.78,-675.42 179.24,-664.11\"/>\n<polygon fill=\"black\" stroke=\"black\" points=\"182.07,-662.05 173.61,-655.67 176.25,-665.93 182.07,-662.05\"/>\n<text text-anchor=\"middle\" x=\"168.71\" y=\"-676.48\" font-family=\"Helvetica,sans-Serif\" font-size=\"14.00\">True</text>\n</g>\n<!-- 2 -->\n<g id=\"node3\" class=\"node\">\n<title>2</title>\n<path fill=\"#ffffff\" stroke=\"black\" d=\"M372.5,-663C372.5,-663 244.5,-663 244.5,-663 238.5,-663 232.5,-657 232.5,-651 232.5,-651 232.5,-592 232.5,-592 232.5,-586 238.5,-580 244.5,-580 244.5,-580 372.5,-580 372.5,-580 378.5,-580 384.5,-586 384.5,-592 384.5,-592 384.5,-651 384.5,-651 384.5,-657 378.5,-663 372.5,-663\"/>\n<text text-anchor=\"start\" x=\"240.5\" y=\"-647.8\" font-family=\"Helvetica,sans-Serif\" font-size=\"14.00\">PetalLengthCm ≤ 4.75</text>\n<text text-anchor=\"start\" x=\"280.5\" y=\"-632.8\" font-family=\"Helvetica,sans-Serif\" font-size=\"14.00\">gini = 0.5</text>\n<text text-anchor=\"start\" x=\"267.5\" y=\"-617.8\" font-family=\"Helvetica,sans-Serif\" font-size=\"14.00\">samples = 74</text>\n<text text-anchor=\"start\" x=\"254\" y=\"-602.8\" font-family=\"Helvetica,sans-Serif\" font-size=\"14.00\">value = [0, 37, 37]</text>\n<text text-anchor=\"start\" x=\"245\" y=\"-587.8\" font-family=\"Helvetica,sans-Serif\" font-size=\"14.00\">class = Iris&#45;versicolor</text>\n</g>\n<!-- 0&#45;&gt;2 -->\n<g id=\"edge2\" class=\"edge\">\n<title>0&#45;&gt;2</title>\n<path fill=\"none\" stroke=\"black\" d=\"M256.91,-698.91C262.91,-690.01 269.33,-680.51 275.53,-671.33\"/>\n<polygon fill=\"black\" stroke=\"black\" points=\"278.44,-673.27 281.14,-663.02 272.64,-669.35 278.44,-673.27\"/>\n<text text-anchor=\"middle\" x=\"285.9\" y=\"-683.86\" font-family=\"Helvetica,sans-Serif\" font-size=\"14.00\">False</text>\n</g>\n<!-- 3 -->\n<g id=\"node4\" class=\"node\">\n<title>3</title>\n<path fill=\"#3fe685\" stroke=\"black\" d=\"M287,-544C287,-544 168,-544 168,-544 162,-544 156,-538 156,-532 156,-532 156,-473 156,-473 156,-467 162,-461 168,-461 168,-461 287,-461 287,-461 293,-461 299,-467 299,-473 299,-473 299,-532 299,-532 299,-538 293,-544 287,-544\"/>\n<text text-anchor=\"start\" x=\"166.5\" y=\"-528.8\" font-family=\"Helvetica,sans-Serif\" font-size=\"14.00\">PetalWidthCm ≤ 1.6</text>\n<text text-anchor=\"start\" x=\"192\" y=\"-513.8\" font-family=\"Helvetica,sans-Serif\" font-size=\"14.00\">gini = 0.059</text>\n<text text-anchor=\"start\" x=\"186.5\" y=\"-498.8\" font-family=\"Helvetica,sans-Serif\" font-size=\"14.00\">samples = 33</text>\n<text text-anchor=\"start\" x=\"177\" y=\"-483.8\" font-family=\"Helvetica,sans-Serif\" font-size=\"14.00\">value = [0, 32, 1]</text>\n<text text-anchor=\"start\" x=\"164\" y=\"-468.8\" font-family=\"Helvetica,sans-Serif\" font-size=\"14.00\">class = Iris&#45;versicolor</text>\n</g>\n<!-- 2&#45;&gt;3 -->\n<g id=\"edge3\" class=\"edge\">\n<title>2&#45;&gt;3</title>\n<path fill=\"none\" stroke=\"black\" d=\"M280.4,-579.91C274.24,-571.01 267.66,-561.51 261.31,-552.33\"/>\n<polygon fill=\"black\" stroke=\"black\" points=\"264.12,-550.25 255.55,-544.02 258.37,-554.24 264.12,-550.25\"/>\n</g>\n<!-- 6 -->\n<g id=\"node7\" class=\"node\">\n<title>6</title>\n<path fill=\"#9254e9\" stroke=\"black\" d=\"M451.5,-544C451.5,-544 329.5,-544 329.5,-544 323.5,-544 317.5,-538 317.5,-532 317.5,-532 317.5,-473 317.5,-473 317.5,-467 323.5,-461 329.5,-461 329.5,-461 451.5,-461 451.5,-461 457.5,-461 463.5,-467 463.5,-473 463.5,-473 463.5,-532 463.5,-532 463.5,-538 457.5,-544 451.5,-544\"/>\n<text text-anchor=\"start\" x=\"325.5\" y=\"-528.8\" font-family=\"Helvetica,sans-Serif\" font-size=\"14.00\">PetalWidthCm ≤ 1.75</text>\n<text text-anchor=\"start\" x=\"355\" y=\"-513.8\" font-family=\"Helvetica,sans-Serif\" font-size=\"14.00\">gini = 0.214</text>\n<text text-anchor=\"start\" x=\"349.5\" y=\"-498.8\" font-family=\"Helvetica,sans-Serif\" font-size=\"14.00\">samples = 41</text>\n<text text-anchor=\"start\" x=\"340\" y=\"-483.8\" font-family=\"Helvetica,sans-Serif\" font-size=\"14.00\">value = [0, 5, 36]</text>\n<text text-anchor=\"start\" x=\"331\" y=\"-468.8\" font-family=\"Helvetica,sans-Serif\" font-size=\"14.00\">class = Iris&#45;virginica</text>\n</g>\n<!-- 2&#45;&gt;6 -->\n<g id=\"edge6\" class=\"edge\">\n<title>2&#45;&gt;6</title>\n<path fill=\"none\" stroke=\"black\" d=\"M336.95,-579.91C343.18,-571.01 349.84,-561.51 356.28,-552.33\"/>\n<polygon fill=\"black\" stroke=\"black\" points=\"359.23,-554.22 362.1,-544.02 353.5,-550.2 359.23,-554.22\"/>\n</g>\n<!-- 4 -->\n<g id=\"node5\" class=\"node\">\n<title>4</title>\n<path fill=\"#39e581\" stroke=\"black\" d=\"M131,-417.5C131,-417.5 12,-417.5 12,-417.5 6,-417.5 0,-411.5 0,-405.5 0,-405.5 0,-361.5 0,-361.5 0,-355.5 6,-349.5 12,-349.5 12,-349.5 131,-349.5 131,-349.5 137,-349.5 143,-355.5 143,-361.5 143,-361.5 143,-405.5 143,-405.5 143,-411.5 137,-417.5 131,-417.5\"/>\n<text text-anchor=\"start\" x=\"43.5\" y=\"-402.3\" font-family=\"Helvetica,sans-Serif\" font-size=\"14.00\">gini = 0.0</text>\n<text text-anchor=\"start\" x=\"30.5\" y=\"-387.3\" font-family=\"Helvetica,sans-Serif\" font-size=\"14.00\">samples = 32</text>\n<text text-anchor=\"start\" x=\"21\" y=\"-372.3\" font-family=\"Helvetica,sans-Serif\" font-size=\"14.00\">value = [0, 32, 0]</text>\n<text text-anchor=\"start\" x=\"8\" y=\"-357.3\" font-family=\"Helvetica,sans-Serif\" font-size=\"14.00\">class = Iris&#45;versicolor</text>\n</g>\n<!-- 3&#45;&gt;4 -->\n<g id=\"edge4\" class=\"edge\">\n<title>3&#45;&gt;4</title>\n<path fill=\"none\" stroke=\"black\" d=\"M173.38,-460.91C157.34,-448.88 139.81,-435.73 123.89,-423.79\"/>\n<polygon fill=\"black\" stroke=\"black\" points=\"125.82,-420.87 115.72,-417.67 121.62,-426.47 125.82,-420.87\"/>\n</g>\n<!-- 5 -->\n<g id=\"node6\" class=\"node\">\n<title>5</title>\n<path fill=\"#8139e5\" stroke=\"black\" d=\"M284,-417.5C284,-417.5 173,-417.5 173,-417.5 167,-417.5 161,-411.5 161,-405.5 161,-405.5 161,-361.5 161,-361.5 161,-355.5 167,-349.5 173,-349.5 173,-349.5 284,-349.5 284,-349.5 290,-349.5 296,-355.5 296,-361.5 296,-361.5 296,-405.5 296,-405.5 296,-411.5 290,-417.5 284,-417.5\"/>\n<text text-anchor=\"start\" x=\"200.5\" y=\"-402.3\" font-family=\"Helvetica,sans-Serif\" font-size=\"14.00\">gini = 0.0</text>\n<text text-anchor=\"start\" x=\"191\" y=\"-387.3\" font-family=\"Helvetica,sans-Serif\" font-size=\"14.00\">samples = 1</text>\n<text text-anchor=\"start\" x=\"181.5\" y=\"-372.3\" font-family=\"Helvetica,sans-Serif\" font-size=\"14.00\">value = [0, 0, 1]</text>\n<text text-anchor=\"start\" x=\"169\" y=\"-357.3\" font-family=\"Helvetica,sans-Serif\" font-size=\"14.00\">class = Iris&#45;virginica</text>\n</g>\n<!-- 3&#45;&gt;5 -->\n<g id=\"edge5\" class=\"edge\">\n<title>3&#45;&gt;5</title>\n<path fill=\"none\" stroke=\"black\" d=\"M227.85,-460.91C227.94,-450.2 228.04,-438.62 228.13,-427.78\"/>\n<polygon fill=\"black\" stroke=\"black\" points=\"231.63,-427.7 228.22,-417.67 224.63,-427.64 231.63,-427.7\"/>\n</g>\n<!-- 7 -->\n<g id=\"node8\" class=\"node\">\n<title>7</title>\n<path fill=\"#ffffff\" stroke=\"black\" d=\"M454.5,-425C454.5,-425 326.5,-425 326.5,-425 320.5,-425 314.5,-419 314.5,-413 314.5,-413 314.5,-354 314.5,-354 314.5,-348 320.5,-342 326.5,-342 326.5,-342 454.5,-342 454.5,-342 460.5,-342 466.5,-348 466.5,-354 466.5,-354 466.5,-413 466.5,-413 466.5,-419 460.5,-425 454.5,-425\"/>\n<text text-anchor=\"start\" x=\"322.5\" y=\"-409.8\" font-family=\"Helvetica,sans-Serif\" font-size=\"14.00\">PetalLengthCm ≤ 4.95</text>\n<text text-anchor=\"start\" x=\"362.5\" y=\"-394.8\" font-family=\"Helvetica,sans-Serif\" font-size=\"14.00\">gini = 0.5</text>\n<text text-anchor=\"start\" x=\"353\" y=\"-379.8\" font-family=\"Helvetica,sans-Serif\" font-size=\"14.00\">samples = 8</text>\n<text text-anchor=\"start\" x=\"343.5\" y=\"-364.8\" font-family=\"Helvetica,sans-Serif\" font-size=\"14.00\">value = [0, 4, 4]</text>\n<text text-anchor=\"start\" x=\"327\" y=\"-349.8\" font-family=\"Helvetica,sans-Serif\" font-size=\"14.00\">class = Iris&#45;versicolor</text>\n</g>\n<!-- 6&#45;&gt;7 -->\n<g id=\"edge7\" class=\"edge\">\n<title>6&#45;&gt;7</title>\n<path fill=\"none\" stroke=\"black\" d=\"M390.5,-460.91C390.5,-452.65 390.5,-443.86 390.5,-435.3\"/>\n<polygon fill=\"black\" stroke=\"black\" points=\"394,-435.02 390.5,-425.02 387,-435.02 394,-435.02\"/>\n</g>\n<!-- 14 -->\n<g id=\"node15\" class=\"node\">\n<title>14</title>\n<path fill=\"#853fe6\" stroke=\"black\" d=\"M624.5,-425C624.5,-425 496.5,-425 496.5,-425 490.5,-425 484.5,-419 484.5,-413 484.5,-413 484.5,-354 484.5,-354 484.5,-348 490.5,-342 496.5,-342 496.5,-342 624.5,-342 624.5,-342 630.5,-342 636.5,-348 636.5,-354 636.5,-354 636.5,-413 636.5,-413 636.5,-419 630.5,-425 624.5,-425\"/>\n<text text-anchor=\"start\" x=\"492.5\" y=\"-409.8\" font-family=\"Helvetica,sans-Serif\" font-size=\"14.00\">PetalLengthCm ≤ 4.85</text>\n<text text-anchor=\"start\" x=\"525\" y=\"-394.8\" font-family=\"Helvetica,sans-Serif\" font-size=\"14.00\">gini = 0.059</text>\n<text text-anchor=\"start\" x=\"519.5\" y=\"-379.8\" font-family=\"Helvetica,sans-Serif\" font-size=\"14.00\">samples = 33</text>\n<text text-anchor=\"start\" x=\"510\" y=\"-364.8\" font-family=\"Helvetica,sans-Serif\" font-size=\"14.00\">value = [0, 1, 32]</text>\n<text text-anchor=\"start\" x=\"501\" y=\"-349.8\" font-family=\"Helvetica,sans-Serif\" font-size=\"14.00\">class = Iris&#45;virginica</text>\n</g>\n<!-- 6&#45;&gt;14 -->\n<g id=\"edge14\" class=\"edge\">\n<title>6&#45;&gt;14</title>\n<path fill=\"none\" stroke=\"black\" d=\"M449.48,-460.91C463.59,-451.2 478.76,-440.76 493.21,-430.81\"/>\n<polygon fill=\"black\" stroke=\"black\" points=\"495.37,-433.57 501.62,-425.02 491.4,-427.81 495.37,-433.57\"/>\n</g>\n<!-- 8 -->\n<g id=\"node9\" class=\"node\">\n<title>8</title>\n<path fill=\"#39e581\" stroke=\"black\" d=\"M289,-298.5C289,-298.5 170,-298.5 170,-298.5 164,-298.5 158,-292.5 158,-286.5 158,-286.5 158,-242.5 158,-242.5 158,-236.5 164,-230.5 170,-230.5 170,-230.5 289,-230.5 289,-230.5 295,-230.5 301,-236.5 301,-242.5 301,-242.5 301,-286.5 301,-286.5 301,-292.5 295,-298.5 289,-298.5\"/>\n<text text-anchor=\"start\" x=\"201.5\" y=\"-283.3\" font-family=\"Helvetica,sans-Serif\" font-size=\"14.00\">gini = 0.0</text>\n<text text-anchor=\"start\" x=\"192\" y=\"-268.3\" font-family=\"Helvetica,sans-Serif\" font-size=\"14.00\">samples = 2</text>\n<text text-anchor=\"start\" x=\"182.5\" y=\"-253.3\" font-family=\"Helvetica,sans-Serif\" font-size=\"14.00\">value = [0, 2, 0]</text>\n<text text-anchor=\"start\" x=\"166\" y=\"-238.3\" font-family=\"Helvetica,sans-Serif\" font-size=\"14.00\">class = Iris&#45;versicolor</text>\n</g>\n<!-- 7&#45;&gt;8 -->\n<g id=\"edge8\" class=\"edge\">\n<title>7&#45;&gt;8</title>\n<path fill=\"none\" stroke=\"black\" d=\"M334.64,-341.91C318.09,-329.88 300,-316.73 283.57,-304.79\"/>\n<polygon fill=\"black\" stroke=\"black\" points=\"285.29,-301.71 275.14,-298.67 281.17,-307.38 285.29,-301.71\"/>\n</g>\n<!-- 9 -->\n<g id=\"node10\" class=\"node\">\n<title>9</title>\n<path fill=\"#c09cf2\" stroke=\"black\" d=\"M453.5,-306C453.5,-306 331.5,-306 331.5,-306 325.5,-306 319.5,-300 319.5,-294 319.5,-294 319.5,-235 319.5,-235 319.5,-229 325.5,-223 331.5,-223 331.5,-223 453.5,-223 453.5,-223 459.5,-223 465.5,-229 465.5,-235 465.5,-235 465.5,-294 465.5,-294 465.5,-300 459.5,-306 453.5,-306\"/>\n<text text-anchor=\"start\" x=\"327.5\" y=\"-290.8\" font-family=\"Helvetica,sans-Serif\" font-size=\"14.00\">PetalWidthCm ≤ 1.55</text>\n<text text-anchor=\"start\" x=\"357\" y=\"-275.8\" font-family=\"Helvetica,sans-Serif\" font-size=\"14.00\">gini = 0.444</text>\n<text text-anchor=\"start\" x=\"355\" y=\"-260.8\" font-family=\"Helvetica,sans-Serif\" font-size=\"14.00\">samples = 6</text>\n<text text-anchor=\"start\" x=\"345.5\" y=\"-245.8\" font-family=\"Helvetica,sans-Serif\" font-size=\"14.00\">value = [0, 2, 4]</text>\n<text text-anchor=\"start\" x=\"333\" y=\"-230.8\" font-family=\"Helvetica,sans-Serif\" font-size=\"14.00\">class = Iris&#45;virginica</text>\n</g>\n<!-- 7&#45;&gt;9 -->\n<g id=\"edge9\" class=\"edge\">\n<title>7&#45;&gt;9</title>\n<path fill=\"none\" stroke=\"black\" d=\"M391.19,-341.91C391.34,-333.56 391.49,-324.67 391.64,-316.02\"/>\n<polygon fill=\"black\" stroke=\"black\" points=\"395.14,-316.08 391.81,-306.02 388.14,-315.96 395.14,-316.08\"/>\n</g>\n<!-- 10 -->\n<g id=\"node11\" class=\"node\">\n<title>10</title>\n<path fill=\"#8139e5\" stroke=\"black\" d=\"M287,-179.5C287,-179.5 176,-179.5 176,-179.5 170,-179.5 164,-173.5 164,-167.5 164,-167.5 164,-123.5 164,-123.5 164,-117.5 170,-111.5 176,-111.5 176,-111.5 287,-111.5 287,-111.5 293,-111.5 299,-117.5 299,-123.5 299,-123.5 299,-167.5 299,-167.5 299,-173.5 293,-179.5 287,-179.5\"/>\n<text text-anchor=\"start\" x=\"203.5\" y=\"-164.3\" font-family=\"Helvetica,sans-Serif\" font-size=\"14.00\">gini = 0.0</text>\n<text text-anchor=\"start\" x=\"194\" y=\"-149.3\" font-family=\"Helvetica,sans-Serif\" font-size=\"14.00\">samples = 3</text>\n<text text-anchor=\"start\" x=\"184.5\" y=\"-134.3\" font-family=\"Helvetica,sans-Serif\" font-size=\"14.00\">value = [0, 0, 3]</text>\n<text text-anchor=\"start\" x=\"172\" y=\"-119.3\" font-family=\"Helvetica,sans-Serif\" font-size=\"14.00\">class = Iris&#45;virginica</text>\n</g>\n<!-- 9&#45;&gt;10 -->\n<g id=\"edge10\" class=\"edge\">\n<title>9&#45;&gt;10</title>\n<path fill=\"none\" stroke=\"black\" d=\"M336.64,-222.91C320.09,-210.88 302,-197.73 285.57,-185.79\"/>\n<polygon fill=\"black\" stroke=\"black\" points=\"287.29,-182.71 277.14,-179.67 283.17,-188.38 287.29,-182.71\"/>\n</g>\n<!-- 11 -->\n<g id=\"node12\" class=\"node\">\n<title>11</title>\n<path fill=\"#9cf2c0\" stroke=\"black\" d=\"M457.5,-187C457.5,-187 329.5,-187 329.5,-187 323.5,-187 317.5,-181 317.5,-175 317.5,-175 317.5,-116 317.5,-116 317.5,-110 323.5,-104 329.5,-104 329.5,-104 457.5,-104 457.5,-104 463.5,-104 469.5,-110 469.5,-116 469.5,-116 469.5,-175 469.5,-175 469.5,-181 463.5,-187 457.5,-187\"/>\n<text text-anchor=\"start\" x=\"325.5\" y=\"-171.8\" font-family=\"Helvetica,sans-Serif\" font-size=\"14.00\">PetalLengthCm ≤ 5.45</text>\n<text text-anchor=\"start\" x=\"358\" y=\"-156.8\" font-family=\"Helvetica,sans-Serif\" font-size=\"14.00\">gini = 0.444</text>\n<text text-anchor=\"start\" x=\"356\" y=\"-141.8\" font-family=\"Helvetica,sans-Serif\" font-size=\"14.00\">samples = 3</text>\n<text text-anchor=\"start\" x=\"346.5\" y=\"-126.8\" font-family=\"Helvetica,sans-Serif\" font-size=\"14.00\">value = [0, 2, 1]</text>\n<text text-anchor=\"start\" x=\"330\" y=\"-111.8\" font-family=\"Helvetica,sans-Serif\" font-size=\"14.00\">class = Iris&#45;versicolor</text>\n</g>\n<!-- 9&#45;&gt;11 -->\n<g id=\"edge11\" class=\"edge\">\n<title>9&#45;&gt;11</title>\n<path fill=\"none\" stroke=\"black\" d=\"M392.85,-222.91C392.92,-214.65 392.99,-205.86 393.07,-197.3\"/>\n<polygon fill=\"black\" stroke=\"black\" points=\"396.57,-197.05 393.15,-187.02 389.57,-196.99 396.57,-197.05\"/>\n</g>\n<!-- 12 -->\n<g id=\"node13\" class=\"node\">\n<title>12</title>\n<path fill=\"#39e581\" stroke=\"black\" d=\"M375,-68C375,-68 256,-68 256,-68 250,-68 244,-62 244,-56 244,-56 244,-12 244,-12 244,-6 250,0 256,0 256,0 375,0 375,0 381,0 387,-6 387,-12 387,-12 387,-56 387,-56 387,-62 381,-68 375,-68\"/>\n<text text-anchor=\"start\" x=\"287.5\" y=\"-52.8\" font-family=\"Helvetica,sans-Serif\" font-size=\"14.00\">gini = 0.0</text>\n<text text-anchor=\"start\" x=\"278\" y=\"-37.8\" font-family=\"Helvetica,sans-Serif\" font-size=\"14.00\">samples = 2</text>\n<text text-anchor=\"start\" x=\"268.5\" y=\"-22.8\" font-family=\"Helvetica,sans-Serif\" font-size=\"14.00\">value = [0, 2, 0]</text>\n<text text-anchor=\"start\" x=\"252\" y=\"-7.8\" font-family=\"Helvetica,sans-Serif\" font-size=\"14.00\">class = Iris&#45;versicolor</text>\n</g>\n<!-- 11&#45;&gt;12 -->\n<g id=\"edge12\" class=\"edge\">\n<title>11&#45;&gt;12</title>\n<path fill=\"none\" stroke=\"black\" d=\"M364.46,-103.73C358.15,-94.88 351.48,-85.51 345.15,-76.63\"/>\n<polygon fill=\"black\" stroke=\"black\" points=\"347.87,-74.41 339.22,-68.3 342.17,-78.48 347.87,-74.41\"/>\n</g>\n<!-- 13 -->\n<g id=\"node14\" class=\"node\">\n<title>13</title>\n<path fill=\"#8139e5\" stroke=\"black\" d=\"M528,-68C528,-68 417,-68 417,-68 411,-68 405,-62 405,-56 405,-56 405,-12 405,-12 405,-6 411,0 417,0 417,0 528,0 528,0 534,0 540,-6 540,-12 540,-12 540,-56 540,-56 540,-62 534,-68 528,-68\"/>\n<text text-anchor=\"start\" x=\"444.5\" y=\"-52.8\" font-family=\"Helvetica,sans-Serif\" font-size=\"14.00\">gini = 0.0</text>\n<text text-anchor=\"start\" x=\"435\" y=\"-37.8\" font-family=\"Helvetica,sans-Serif\" font-size=\"14.00\">samples = 1</text>\n<text text-anchor=\"start\" x=\"425.5\" y=\"-22.8\" font-family=\"Helvetica,sans-Serif\" font-size=\"14.00\">value = [0, 0, 1]</text>\n<text text-anchor=\"start\" x=\"413\" y=\"-7.8\" font-family=\"Helvetica,sans-Serif\" font-size=\"14.00\">class = Iris&#45;virginica</text>\n</g>\n<!-- 11&#45;&gt;13 -->\n<g id=\"edge13\" class=\"edge\">\n<title>11&#45;&gt;13</title>\n<path fill=\"none\" stroke=\"black\" d=\"M422.92,-103.73C429.3,-94.88 436.06,-85.51 442.47,-76.63\"/>\n<polygon fill=\"black\" stroke=\"black\" points=\"445.46,-78.46 448.48,-68.3 439.79,-74.36 445.46,-78.46\"/>\n</g>\n<!-- 15 -->\n<g id=\"node16\" class=\"node\">\n<title>15</title>\n<path fill=\"#c09cf2\" stroke=\"black\" d=\"M619.5,-306C619.5,-306 501.5,-306 501.5,-306 495.5,-306 489.5,-300 489.5,-294 489.5,-294 489.5,-235 489.5,-235 489.5,-229 495.5,-223 501.5,-223 501.5,-223 619.5,-223 619.5,-223 625.5,-223 631.5,-229 631.5,-235 631.5,-235 631.5,-294 631.5,-294 631.5,-300 625.5,-306 619.5,-306\"/>\n<text text-anchor=\"start\" x=\"497.5\" y=\"-290.8\" font-family=\"Helvetica,sans-Serif\" font-size=\"14.00\">SepalWidthCm ≤ 3.1</text>\n<text text-anchor=\"start\" x=\"525\" y=\"-275.8\" font-family=\"Helvetica,sans-Serif\" font-size=\"14.00\">gini = 0.444</text>\n<text text-anchor=\"start\" x=\"523\" y=\"-260.8\" font-family=\"Helvetica,sans-Serif\" font-size=\"14.00\">samples = 3</text>\n<text text-anchor=\"start\" x=\"513.5\" y=\"-245.8\" font-family=\"Helvetica,sans-Serif\" font-size=\"14.00\">value = [0, 1, 2]</text>\n<text text-anchor=\"start\" x=\"501\" y=\"-230.8\" font-family=\"Helvetica,sans-Serif\" font-size=\"14.00\">class = Iris&#45;virginica</text>\n</g>\n<!-- 14&#45;&gt;15 -->\n<g id=\"edge15\" class=\"edge\">\n<title>14&#45;&gt;15</title>\n<path fill=\"none\" stroke=\"black\" d=\"M560.5,-341.91C560.5,-333.65 560.5,-324.86 560.5,-316.3\"/>\n<polygon fill=\"black\" stroke=\"black\" points=\"564,-316.02 560.5,-306.02 557,-316.02 564,-316.02\"/>\n</g>\n<!-- 18 -->\n<g id=\"node19\" class=\"node\">\n<title>18</title>\n<path fill=\"#8139e5\" stroke=\"black\" d=\"M773,-298.5C773,-298.5 662,-298.5 662,-298.5 656,-298.5 650,-292.5 650,-286.5 650,-286.5 650,-242.5 650,-242.5 650,-236.5 656,-230.5 662,-230.5 662,-230.5 773,-230.5 773,-230.5 779,-230.5 785,-236.5 785,-242.5 785,-242.5 785,-286.5 785,-286.5 785,-292.5 779,-298.5 773,-298.5\"/>\n<text text-anchor=\"start\" x=\"689.5\" y=\"-283.3\" font-family=\"Helvetica,sans-Serif\" font-size=\"14.00\">gini = 0.0</text>\n<text text-anchor=\"start\" x=\"676.5\" y=\"-268.3\" font-family=\"Helvetica,sans-Serif\" font-size=\"14.00\">samples = 30</text>\n<text text-anchor=\"start\" x=\"667\" y=\"-253.3\" font-family=\"Helvetica,sans-Serif\" font-size=\"14.00\">value = [0, 0, 30]</text>\n<text text-anchor=\"start\" x=\"658\" y=\"-238.3\" font-family=\"Helvetica,sans-Serif\" font-size=\"14.00\">class = Iris&#45;virginica</text>\n</g>\n<!-- 14&#45;&gt;18 -->\n<g id=\"edge18\" class=\"edge\">\n<title>14&#45;&gt;18</title>\n<path fill=\"none\" stroke=\"black\" d=\"M614.97,-341.91C631.11,-329.88 648.75,-316.73 664.78,-304.79\"/>\n<polygon fill=\"black\" stroke=\"black\" points=\"667.07,-307.45 672.99,-298.67 662.88,-301.84 667.07,-307.45\"/>\n</g>\n<!-- 16 -->\n<g id=\"node17\" class=\"node\">\n<title>16</title>\n<path fill=\"#8139e5\" stroke=\"black\" d=\"M615,-179.5C615,-179.5 504,-179.5 504,-179.5 498,-179.5 492,-173.5 492,-167.5 492,-167.5 492,-123.5 492,-123.5 492,-117.5 498,-111.5 504,-111.5 504,-111.5 615,-111.5 615,-111.5 621,-111.5 627,-117.5 627,-123.5 627,-123.5 627,-167.5 627,-167.5 627,-173.5 621,-179.5 615,-179.5\"/>\n<text text-anchor=\"start\" x=\"531.5\" y=\"-164.3\" font-family=\"Helvetica,sans-Serif\" font-size=\"14.00\">gini = 0.0</text>\n<text text-anchor=\"start\" x=\"522\" y=\"-149.3\" font-family=\"Helvetica,sans-Serif\" font-size=\"14.00\">samples = 2</text>\n<text text-anchor=\"start\" x=\"512.5\" y=\"-134.3\" font-family=\"Helvetica,sans-Serif\" font-size=\"14.00\">value = [0, 0, 2]</text>\n<text text-anchor=\"start\" x=\"500\" y=\"-119.3\" font-family=\"Helvetica,sans-Serif\" font-size=\"14.00\">class = Iris&#45;virginica</text>\n</g>\n<!-- 15&#45;&gt;16 -->\n<g id=\"edge16\" class=\"edge\">\n<title>15&#45;&gt;16</title>\n<path fill=\"none\" stroke=\"black\" d=\"M560.15,-222.91C560.06,-212.2 559.96,-200.62 559.87,-189.78\"/>\n<polygon fill=\"black\" stroke=\"black\" points=\"563.37,-189.64 559.78,-179.67 556.37,-189.7 563.37,-189.64\"/>\n</g>\n<!-- 17 -->\n<g id=\"node18\" class=\"node\">\n<title>17</title>\n<path fill=\"#39e581\" stroke=\"black\" d=\"M776,-179.5C776,-179.5 657,-179.5 657,-179.5 651,-179.5 645,-173.5 645,-167.5 645,-167.5 645,-123.5 645,-123.5 645,-117.5 651,-111.5 657,-111.5 657,-111.5 776,-111.5 776,-111.5 782,-111.5 788,-117.5 788,-123.5 788,-123.5 788,-167.5 788,-167.5 788,-173.5 782,-179.5 776,-179.5\"/>\n<text text-anchor=\"start\" x=\"688.5\" y=\"-164.3\" font-family=\"Helvetica,sans-Serif\" font-size=\"14.00\">gini = 0.0</text>\n<text text-anchor=\"start\" x=\"679\" y=\"-149.3\" font-family=\"Helvetica,sans-Serif\" font-size=\"14.00\">samples = 1</text>\n<text text-anchor=\"start\" x=\"669.5\" y=\"-134.3\" font-family=\"Helvetica,sans-Serif\" font-size=\"14.00\">value = [0, 1, 0]</text>\n<text text-anchor=\"start\" x=\"653\" y=\"-119.3\" font-family=\"Helvetica,sans-Serif\" font-size=\"14.00\">class = Iris&#45;versicolor</text>\n</g>\n<!-- 15&#45;&gt;17 -->\n<g id=\"edge17\" class=\"edge\">\n<title>15&#45;&gt;17</title>\n<path fill=\"none\" stroke=\"black\" d=\"M614.62,-222.91C630.66,-210.88 648.19,-197.73 664.11,-185.79\"/>\n<polygon fill=\"black\" stroke=\"black\" points=\"666.38,-188.47 672.28,-179.67 662.18,-182.87 666.38,-188.47\"/>\n</g>\n</g>\n</svg>\n",
            "text/plain": [
              "<graphviz.sources.Source at 0x7f5c0fbde9b0>"
            ]
          },
          "metadata": {},
          "execution_count": 12
        }
      ]
    },
    {
      "cell_type": "markdown",
      "source": [
        "# e) Evaluate the Classifier"
      ],
      "metadata": {
        "id": "wkkteVQj_5S9"
      }
    },
    {
      "cell_type": "code",
      "source": [
        "from sklearn.metrics import accuracy_score, classification_report\n",
        "y_pred = clf.predict(X_test)\n",
        "accuracy = accuracy_score(y_test, y_pred)\n",
        "report = classification_report(y_test, y_pred)\n",
        "print(f\"Accuracy: {accuracy}\")\n",
        "print(\"Classification Report:\\n\", report)\n"
      ],
      "metadata": {
        "colab": {
          "base_uri": "https://localhost:8080/"
        },
        "id": "vWwNLScr_75h",
        "outputId": "532fd6bf-d791-4769-a603-8b7d7ef54f91"
      },
      "execution_count": 14,
      "outputs": [
        {
          "output_type": "stream",
          "name": "stdout",
          "text": [
            "Accuracy: 1.0\n",
            "Classification Report:\n",
            "                  precision    recall  f1-score   support\n",
            "\n",
            "    Iris-setosa       1.00      1.00      1.00        19\n",
            "Iris-versicolor       1.00      1.00      1.00        13\n",
            " Iris-virginica       1.00      1.00      1.00        13\n",
            "\n",
            "       accuracy                           1.00        45\n",
            "      macro avg       1.00      1.00      1.00        45\n",
            "   weighted avg       1.00      1.00      1.00        45\n",
            "\n"
          ]
        }
      ]
    }
  ]
}